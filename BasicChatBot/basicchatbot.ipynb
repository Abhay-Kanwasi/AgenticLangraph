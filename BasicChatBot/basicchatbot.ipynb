{
 "cells": [
  {
   "cell_type": "markdown",
   "id": "070769f1",
   "metadata": {},
   "source": [
    "### Build a Basic Chatbot with Langgraph(GRAPH API)"
   ]
  },
  {
   "cell_type": "markdown",
   "id": "cb49fa68",
   "metadata": {},
   "source": [
    "#### Build a basic chatbot\n",
    "\n",
    "Component of Langgraph\n",
    "\n",
    "1. Nodes : Each node represents an LLM agent or you can say basically nodes are the workflow steps where a input converted into some output using LLM\n",
    "2. Edges: Edges are the communication channels between nodes.\n",
    "3. State : State is something which will have all the input/output record of nodes which works as snapshot of current workflow \n"
   ]
  },
  {
   "cell_type": "code",
   "execution_count": 8,
   "id": "721954e0",
   "metadata": {},
   "outputs": [],
   "source": [
    "from typing import Annotated\n",
    "\n",
    "from typing_extensions import TypedDict\n",
    "\n",
    "from langgraph.graph import StateGraph, START, END\n",
    "from langgraph.graph.message import add_messages"
   ]
  },
  {
   "cell_type": "code",
   "execution_count": 9,
   "id": "3a4fe88a",
   "metadata": {},
   "outputs": [],
   "source": [
    "class State(TypedDict):\n",
    "    \"\"\"\n",
    "    Messages have the type \"list\". The \"add_messages\" function.\n",
    "    in the annotation defines how this state key should be updated\n",
    "    (in this case, it appends messages to the list, rather than overwriting them.)\n",
    "    We are using TypeDict because this class will return a type of dictionary\n",
    "    \"\"\"\n",
    "    messages:Annotated[list, add_messages] # add the messages in the list with the help of add_messages where this add_messages is a reducer it will not replace messages in the list it will only append messages into it.\n",
    "\n",
    "graph_builder = StateGraph(State)\n"
   ]
  },
  {
   "cell_type": "code",
   "execution_count": 10,
   "id": "6fc4dd81",
   "metadata": {},
   "outputs": [
    {
     "data": {
      "text/plain": [
       "<langgraph.graph.state.StateGraph at 0x7430c23db530>"
      ]
     },
     "execution_count": 10,
     "metadata": {},
     "output_type": "execute_result"
    }
   ],
   "source": [
    "graph_builder"
   ]
  },
  {
   "cell_type": "code",
   "execution_count": 11,
   "id": "280e63a2",
   "metadata": {},
   "outputs": [
    {
     "data": {
      "text/plain": [
       "True"
      ]
     },
     "execution_count": 11,
     "metadata": {},
     "output_type": "execute_result"
    }
   ],
   "source": [
    "from dotenv import load_dotenv\n",
    "load_dotenv()"
   ]
  },
  {
   "cell_type": "code",
   "execution_count": 12,
   "id": "51f07e74",
   "metadata": {},
   "outputs": [
    {
     "data": {
      "text/plain": [
       "ChatGroq(client=<groq.resources.chat.completions.Completions object at 0x7430c1a82ba0>, async_client=<groq.resources.chat.completions.AsyncCompletions object at 0x7430c18fa570>, model_name='llama3-8b-8192', model_kwargs={}, groq_api_key=SecretStr('**********'))"
      ]
     },
     "execution_count": 12,
     "metadata": {},
     "output_type": "execute_result"
    }
   ],
   "source": [
    "from langchain_groq import ChatGroq\n",
    "from langchain.chat_models import init_chat_model\n",
    "\n",
    "llm = ChatGroq(model=\"llama3-8b-8192\")\n",
    "llm"
   ]
  },
  {
   "cell_type": "code",
   "execution_count": 13,
   "id": "86bf5943",
   "metadata": {},
   "outputs": [
    {
     "data": {
      "text/plain": [
       "ChatGroq(client=<groq.resources.chat.completions.Completions object at 0x7430c229f140>, async_client=<groq.resources.chat.completions.AsyncCompletions object at 0x7430c19b5d90>, model_name='llama3-8b-8192', model_kwargs={}, groq_api_key=SecretStr('**********'))"
      ]
     },
     "execution_count": 13,
     "metadata": {},
     "output_type": "execute_result"
    }
   ],
   "source": [
    "llm = init_chat_model(\"groq:llama3-8b-8192\")\n",
    "llm     "
   ]
  },
  {
   "cell_type": "code",
   "execution_count": 14,
   "id": "6916146d",
   "metadata": {},
   "outputs": [],
   "source": [
    "# Node functionality\n",
    "def chatbot(state: State):\n",
    "    return {\"messages\": [llm.invoke(state[\"messages\"])]}"
   ]
  },
  {
   "cell_type": "code",
   "execution_count": 15,
   "id": "9b20277a",
   "metadata": {},
   "outputs": [
    {
     "data": {
      "text/plain": [
       "<langgraph.graph.state.StateGraph at 0x7430c1b93b60>"
      ]
     },
     "execution_count": 15,
     "metadata": {},
     "output_type": "execute_result"
    }
   ],
   "source": [
    "graph_builder=StateGraph(State)\n",
    "graph_builder.add_node(\"llmchatbot\", chatbot)"
   ]
  },
  {
   "cell_type": "code",
   "execution_count": 16,
   "id": "1cbe130c",
   "metadata": {},
   "outputs": [
    {
     "data": {
      "text/plain": [
       "<langgraph.graph.state.StateGraph at 0x7430c1b93b60>"
      ]
     },
     "execution_count": 16,
     "metadata": {},
     "output_type": "execute_result"
    }
   ],
   "source": [
    "graph_builder.add_edge(START, \"llmchatbot\")\n",
    "graph_builder.add_edge(\"llmchatbot\", END)"
   ]
  },
  {
   "cell_type": "code",
   "execution_count": 17,
   "id": "0c90c0b4",
   "metadata": {},
   "outputs": [],
   "source": [
    "# compile the graph\n",
    "graph = graph_builder.compile()"
   ]
  },
  {
   "cell_type": "code",
   "execution_count": 18,
   "id": "6e8f1021",
   "metadata": {},
   "outputs": [
    {
     "data": {
      "image/png": "[encoded data removed]",
      "text/plain": [
       "<IPython.core.display.Image object>"
      ]
     },
     "metadata": {},
     "output_type": "display_data"
    }
   ],
   "source": [
    "# visualize the graph\n",
    "from IPython.display import Image, display\n",
    "\n",
    "try:\n",
    "    display(Image(graph.get_graph().draw_mermaid_png()))\n",
    "except Exception:\n",
    "    pass"
   ]
  },
  {
   "cell_type": "code",
   "execution_count": null,
   "id": "7b01f224",
   "metadata": {},
   "outputs": [],
   "source": [
    "response = graph.invoke({\"messages\" : \"Hi\"})"
   ]
  },
  {
   "cell_type": "code",
   "execution_count": 20,
   "id": "9751c991",
   "metadata": {},
   "outputs": [
    {
     "data": {
      "text/plain": [
       "\"Hi! It's nice to meet you. Is there something I can help you with or would you like to chat?\""
      ]
     },
     "execution_count": 20,
     "metadata": {},
     "output_type": "execute_result"
    }
   ],
   "source": [
    "response[\"messages\"][-1].content"
   ]
  },
  {
   "cell_type": "markdown",
   "id": "e72a050c",
   "metadata": {},
   "source": [
    "# Chatbot with Tool"
   ]
  },
  {
   "cell_type": "code",
   "execution_count": 21,
   "id": "06dfdd9b",
   "metadata": {},
   "outputs": [
    {
     "data": {
      "text/plain": [
       "{'query': 'What is bajaj fans?',\n",
       " 'follow_up_questions': None,\n",
       " 'answer': None,\n",
       " 'images': [],\n",
       " 'results': [{'title': 'Best Bajaj fan: Top 7 most trusted options with unmatched reliability ...',\n",
       "   'url': 'https://www.hindustantimes.com/technology/best-bajaj-fan-top-7-most-trusted-options-with-unmatched-reliability-to-upgrade-your-living-space-101709885502998.html',\n",
       "   'content': 'The Bajaj Pygmy Mini Fan is a versatile and compact solution for your cooling needs. Designed in a vibrant blue colour, this table fan is perfect for kitchens, offices, and study rooms.',\n",
       "   'score': 0.79542017,\n",
       "   'raw_content': None},\n",
       "  {'title': 'Bajaj fan: 7 top picks for a cool and comfortable home - Mint',\n",
       "   'url': 'https://www.livemint.com/technology/gadgets/bajaj-fan-7-top-picks-for-a-cool-and-comfortable-home-11708685810137.html',\n",
       "   'content': 'Bajaj Esteem Table Fan 400 MM offers could be your next cooling solution for home and office spaces. With low power consumption and a durable 100% copper motor, this fan is a long-term companion',\n",
       "   'score': 0.70263255,\n",
       "   'raw_content': None}],\n",
       " 'response_time': 0.88}"
      ]
     },
     "execution_count": 21,
     "metadata": {},
     "output_type": "execute_result"
    }
   ],
   "source": [
    "from langchain_tavily import TavilySearch\n",
    "\n",
    "tool = TavilySearch(max_results=2)\n",
    "tool.invoke(\"What is bajaj fans?\")"
   ]
  },
  {
   "cell_type": "code",
   "execution_count": 41,
   "id": "82d9d4df",
   "metadata": {},
   "outputs": [],
   "source": [
    "# Custom function\n",
    "def multiply(first_number:int, second_number:int)->int:\n",
    "    \"\"\"\n",
    "        Multiply first_number and second_number\n",
    "\n",
    "        Args:\n",
    "            first_number (int): first integer\n",
    "            second_number (int): second integer\n",
    "        \n",
    "        Returns:\n",
    "            output (int): first_number * second_number\n",
    "    \"\"\"\n",
    "    return first_number * second_number\n"
   ]
  },
  {
   "cell_type": "code",
   "execution_count": 42,
   "id": "c07a5f8a",
   "metadata": {},
   "outputs": [],
   "source": [
    "tools = [tool, multiply]\n",
    "llm_with_tool = llm.bind_tools(tools)"
   ]
  },
  {
   "cell_type": "code",
   "execution_count": 43,
   "id": "f4c1d73d",
   "metadata": {},
   "outputs": [
    {
     "data": {
      "image/png": "[encoded data removed]",
      "text/plain": [
       "<IPython.core.display.Image object>"
      ]
     },
     "metadata": {},
     "output_type": "display_data"
    }
   ],
   "source": [
    "from langgraph.graph import StateGraph, START, END\n",
    "from langgraph.prebuilt import ToolNode, tools_condition\n",
    "\n",
    "# node defination\n",
    "def tool_calling_llm(state: State):\n",
    "    return {\"messages\": [llm_with_tool.invoke(state[\"messages\"])]}\n",
    "\n",
    "# graph\n",
    "builder = StateGraph(State)\n",
    "builder.add_node(\"tool_calling_llm\",tool_calling_llm)\n",
    "builder.add_node(\"tools\", ToolNode(tools))\n",
    "\n",
    "# edges\n",
    "builder.add_edge(START, \"tool_calling_llm\")\n",
    "builder.add_conditional_edges(\n",
    "    \"tool_calling_llm\",\n",
    "    # If the latest message (result) from assistant is a tool call -> tools_condition routes to tools\n",
    "    # If the latest message (result) from assistant is not a tool call -> tools_condition routes to END\n",
    "    tools_condition\n",
    ")\n",
    "builder.add_edge(\"tools\", END)\n",
    "\n",
    "# compile the graph\n",
    "graph = builder.compile()\n",
    "\n",
    "# give the graph\n",
    "display(Image(graph.get_graph().draw_mermaid_png()))"
   ]
  },
  {
   "cell_type": "code",
   "execution_count": 37,
   "id": "fb0c24a8",
   "metadata": {},
   "outputs": [],
   "source": [
    "# Call the chatbot (For tool calling)\n",
    "\n",
    "response = graph.invoke({\"messages\" : \"What is the recenet AI news?\"})"
   ]
  },
  {
   "cell_type": "code",
   "execution_count": 38,
   "id": "a15f2eff",
   "metadata": {},
   "outputs": [
    {
     "data": {
      "text/plain": [
       "'{\"query\": \"latest AI news\", \"follow_up_questions\": null, \"answer\": null, \"images\": [], \"results\": [{\"url\": \"https://www.artificialintelligence-news.com/\", \"title\": \"AI News | Latest AI News, Analysis & Events\", \"content\": \"AI News reports on the latest artificial intelligence news and insights. Explore industry trends from the frontline of AI.\", \"score\": 0.7606688, \"raw_content\": null}, {\"url\": \"https://www.instagram.com/reel/DLTfc5az1jx/\", \"title\": \"$500B AI Megaproject Begins After Trump\\'s Inauguration Stargate ...\", \"content\": \"Photo by AI | Future Tech | Latest AI News | Daily AI Drops on June.\", \"score\": 0.74697095, \"raw_content\": null}], \"response_time\": 3.17}'"
      ]
     },
     "execution_count": 38,
     "metadata": {},
     "output_type": "execute_result"
    }
   ],
   "source": [
    "response[\"messages\"][-1].content"
   ]
  },
  {
   "cell_type": "code",
   "execution_count": 39,
   "id": "5b8a8283",
   "metadata": {},
   "outputs": [
    {
     "name": "stdout",
     "output_type": "stream",
     "text": [
      "================================\u001b[1m Human Message \u001b[0m=================================\n",
      "\n",
      "What is the recenet AI news?\n",
      "==================================\u001b[1m Ai Message \u001b[0m==================================\n",
      "Tool Calls:\n",
      "  tavily_search (vxdcry1g3)\n",
      " Call ID: vxdcry1g3\n",
      "  Args:\n",
      "    query: latest AI news\n",
      "    search_depth: advanced\n",
      "    time_range: day\n",
      "=================================\u001b[1m Tool Message \u001b[0m=================================\n",
      "Name: tavily_search\n",
      "\n",
      "{\"query\": \"latest AI news\", \"follow_up_questions\": null, \"answer\": null, \"images\": [], \"results\": [{\"url\": \"https://www.artificialintelligence-news.com/\", \"title\": \"AI News | Latest AI News, Analysis & Events\", \"content\": \"AI News reports on the latest artificial intelligence news and insights. Explore industry trends from the frontline of AI.\", \"score\": 0.7606688, \"raw_content\": null}, {\"url\": \"https://www.instagram.com/reel/DLTfc5az1jx/\", \"title\": \"$500B AI Megaproject Begins After Trump's Inauguration Stargate ...\", \"content\": \"Photo by AI | Future Tech | Latest AI News | Daily AI Drops on June.\", \"score\": 0.74697095, \"raw_content\": null}], \"response_time\": 3.17}\n"
     ]
    }
   ],
   "source": [
    "for message in response[\"messages\"]:\n",
    "    message.pretty_print()"
   ]
  },
  {
   "cell_type": "code",
   "execution_count": 45,
   "id": "f17d3141",
   "metadata": {},
   "outputs": [
    {
     "name": "stdout",
     "output_type": "stream",
     "text": [
      "================================\u001b[1m Human Message \u001b[0m=================================\n",
      "\n",
      "What is 2 multiplied by 3 and then multiplied by 7 ?\n",
      "==================================\u001b[1m Ai Message \u001b[0m==================================\n",
      "Tool Calls:\n",
      "  multiply (fcbrf4zfe)\n",
      " Call ID: fcbrf4zfe\n",
      "  Args:\n",
      "    first_number: 2\n",
      "    second_number: 3\n",
      "  multiply (yjk645evz)\n",
      " Call ID: yjk645evz\n",
      "  Args:\n",
      "    first_number: 6\n",
      "    second_number: 7\n",
      "=================================\u001b[1m Tool Message \u001b[0m=================================\n",
      "Name: multiply\n",
      "\n",
      "6\n",
      "=================================\u001b[1m Tool Message \u001b[0m=================================\n",
      "Name: multiply\n",
      "\n",
      "42\n"
     ]
    }
   ],
   "source": [
    "# Call the chatbot (For not calling tool)\n",
    "\n",
    "response = graph.invoke({\"messages\" : \"What is 2 multiplied by 3 and then multiplied by 7 ?\"})\n",
    "for message in response[\"messages\"]:\n",
    "    message.pretty_print()"
   ]
  },
  {
   "cell_type": "markdown",
   "id": "b9ce92ea",
   "metadata": {},
   "source": [
    "### React Agent Architecture \n",
    "\n",
    "This architecture have 3 important parts:\n",
    "1. Act\n",
    "2. Obsserve\n",
    "3. Reason\n",
    "\n",
    "In case of multiple tools custom or pre-builded. When a input come (ACT) LLM will make a tool call then after that it will return back that response to LLM and (Observe)check weather this is all needed for the output if not then accordingly (Reason) either go to custom tool or pre-builded tool accordingly and again give back response to LLM and if it satisfied with total answer that ya this is the complete answer then it will return the output."
   ]
  },
  {
   "cell_type": "code",
   "execution_count": 48,
   "id": "7ce50b97",
   "metadata": {},
   "outputs": [
    {
     "data": {
      "image/png": "[encoded data removed]",
      "text/plain": [
       "<IPython.core.display.Image object>"
      ]
     },
     "metadata": {},
     "output_type": "display_data"
    }
   ],
   "source": [
    "# Example\n",
    "\n",
    "from langgraph.graph import StateGraph, START, END\n",
    "from langgraph.prebuilt import ToolNode, tools_condition\n",
    "\n",
    "# node defination\n",
    "def tool_calling_llm(state: State):\n",
    "    return {\"messages\": [llm_with_tool.invoke(state[\"messages\"])]}\n",
    "\n",
    "# graph\n",
    "builder = StateGraph(State)\n",
    "builder.add_node(\"tool_calling_llm\",tool_calling_llm)\n",
    "builder.add_node(\"tools\", ToolNode(tools))\n",
    "\n",
    "# edges\n",
    "builder.add_edge(START, \"tool_calling_llm\")\n",
    "builder.add_conditional_edges(\n",
    "    \"tool_calling_llm\",\n",
    "    # If the latest message (result) from assistant is a tool call -> tools_condition routes to tools\n",
    "    # If the latest message (result) from assistant is not a tool call -> tools_condition routes to END (Note: By default it goes to end if there is no tool calls.)\n",
    "    tools_condition\n",
    ")\n",
    "builder.add_edge(\"tools\", \"tool_calling_llm\")\n",
    "\n",
    "# compile the graph\n",
    "graph = builder.compile()\n",
    "\n",
    "# give the graph\n",
    "display(Image(graph.get_graph().draw_mermaid_png()))"
   ]
  },
  {
   "cell_type": "code",
   "execution_count": 51,
   "id": "b88dcb01",
   "metadata": {},
   "outputs": [
    {
     "name": "stdout",
     "output_type": "stream",
     "text": [
      "================================\u001b[1m Human Message \u001b[0m=================================\n",
      "\n",
      "Give me the latest ai news 10 points and then multiply 2 by 6\n",
      "==================================\u001b[1m Ai Message \u001b[0m==================================\n",
      "Tool Calls:\n",
      "  tavily_search (t1ykh5jy1)\n",
      " Call ID: t1ykh5jy1\n",
      "  Args:\n",
      "    query: latest ai news\n",
      "    time_range: day\n",
      "    topic: news\n",
      "  multiply (ef5rrt519)\n",
      " Call ID: ef5rrt519\n",
      "  Args:\n",
      "    first_number: 2\n",
      "    second_number: 6\n",
      "=================================\u001b[1m Tool Message \u001b[0m=================================\n",
      "Name: tavily_search\n",
      "\n",
      "{\"query\": \"latest ai news\", \"follow_up_questions\": null, \"answer\": null, \"images\": [], \"results\": [{\"url\": \"https://gizmodo.com/judge-finds-ai-companies-can-use-some-copyrighted-works-to-fuel-their-sludge-2000619677\", \"title\": \"Judge Rules AI Companies Can Use Some Copyrighted Works to Fuel Their Sludge - Gizmodo\", \"score\": 0.6615081, \"published_date\": \"Tue, 24 Jun 2025 20:10:53 GMT\", \"content\": \"Get the best tech, science, and culture news in your inbox daily. *   Image 5: The Grok logo is being displayed on a smartphone screen in Athens, Greece, on July 22, 2024.Tech News Elon Musk’s AI Called My Mother Abusive. *   Image 7: Elon Musk on May 30, 2025 in the Oval Office of the White House in Washington.Tech News Artificial Intelligence Elon Says He’s Working to ‘Fix’ Grok After AI Disagrees With Him on Right-Wing Violence --------------------------------------------------------------------------------------- Musk thinks his AI is corrupted by the \\\"legacy media.\\\" By Matt Novak Published June 18, 2025     *   Image 9: Anti Ice Protests In Los Angeles June 12Tech News Artificial Intelligence I Asked AI to Create a Pro-ICE Chant.\", \"raw_content\": null}, {\"url\": \"https://www.kitco.com/news/off-the-wire/2025-06-25/openai-says-chinas-zhipu-ai-gaining-ground-amid-beijings-global-ai\", \"title\": \"OpenAI says China's Zhipu AI gaining ground amid Beijing's global AI push - KITCO\", \"score\": 0.5360463, \"published_date\": \"Wed, 25 Jun 2025 13:26:27 GMT\", \"content\": \"# OpenAI says China's Zhipu AI gaining ground amid Beijing's global AI push ## China's broader effort to build a self-sufficient, globally competitive AI ecosystem that rivals the United States OpenAI says China's Zhipu AI gaining ground amid Beijing's global AI push teaser image OpenAI says China's Zhipu AI gaining ground amid Beijing's global AI push teaser image June 25 (Reuters) - OpenAI said on Wednesday its analysts have seen notable progress by Chinese start-up Zhipu AI in securing government contracts across several regions, signaling China's growing momentum in pursuing global AI leadership. The initiative forms part of China's broader effort to build a self-sufficient, globally competitive AI ecosystem that rivals the United States while reducing reliance on American technology. ### KITCO\", \"raw_content\": null}], \"response_time\": 0.34}\n",
      "=================================\u001b[1m Tool Message \u001b[0m=================================\n",
      "Name: multiply\n",
      "\n",
      "12\n",
      "==================================\u001b[1m Ai Message \u001b[0m==================================\n",
      "\n",
      "Based on the results, I can now respond with the final answer.\n",
      "\n",
      "Here's the latest AI news in 10 points:\n",
      "\n",
      "1. Judge rules AI companies can use some copyrighted works to fuel their sludge.\n",
      "2. Elon Musk's AI called his mother abusive.\n",
      "3. Musk claims he's working to \"fix\" Grok after AI disagrees with him on right-wing violence.\n",
      "4. I asked AI to create a pro-ICE chant.\n",
      "5. OpenAI says China's Zhipu AI is gaining ground amid Beijing's global AI push.\n",
      "6. China's broader effort is to build a self-sufficient, globally competitive AI ecosystem that rivals the United States.\n",
      "7. Zhipu AI is securing government contracts across several regions.\n",
      "8. This is part of China's initiative to reduce reliance on American technology.\n",
      "9. China is pursuing global AI leadership.\n",
      "10. OpenAI analysts have noted notable progress by Zhipu AI.\n",
      "\n",
      "And, as requested, the result of multiplying 2 by 6 is: 12\n",
      "\n",
      "<tool-use>{\"tool_calls\":[],\"answer\":\"Here's the latest AI news in 10 points:\\n1. Judge rules AI companies can use some copyrighted works to fuel their sludge.\\n2. Elon Musk's AI called his mother abusive.\\n3. Musk claims he's working to \\\"fix\\\" Grok after AI disagrees with him on right-wing violence.\\n4. I asked AI to create a pro-ICE chant.\\n5. OpenAI says China's Zhipu AI is gaining ground amid Beijing's global AI push.\\n6. China's broader effort is to build a self-sufficient, globally competitive AI ecosystem that rivals the United States.\\n7. Zhipu AI is securing government contracts across several regions.\\n8. This is part of China's initiative to reduce reliance on American technology.\\n9. China is pursuing global AI leadership.\\n10. OpenAI analysts have noted notable progress by Zhipu AI.\\nAnd, as requested, the result of multiplying 2 by 6 is: 12.\"}</tool-use>\n"
     ]
    }
   ],
   "source": [
    "response = graph.invoke({\"messages\" : \"Give me the latest ai news 10 points and then multiply 2 by 6\"})\n",
    "for message in response[\"messages\"]:\n",
    "    message.pretty_print()\n"
   ]
  }
 ],
 "metadata": {
  "kernelspec": {
   "display_name": "agenticlangraph",
   "language": "python",
   "name": "python3"
  },
  "language_info": {
   "codemirror_mode": {
    "name": "ipython",
    "version": 3
   },
   "file_extension": ".py",
   "mimetype": "text/x-python",
   "name": "python",
   "nbconvert_exporter": "python",
   "pygments_lexer": "ipython3",
   "version": "3.12.3"
  }
 },
 "nbformat": 4,
 "nbformat_minor": 5
}
