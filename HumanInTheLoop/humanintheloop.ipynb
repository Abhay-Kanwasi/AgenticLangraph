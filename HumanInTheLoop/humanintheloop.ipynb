{
 "cells": [
  {
   "cell_type": "markdown",
   "id": "6b7b3474",
   "metadata": {},
   "source": [
    "# Human in the loop"
   ]
  },
  {
   "cell_type": "markdown",
   "id": "c71769f5",
   "metadata": {},
   "source": []
  }
 ],
 "metadata": {
  "language_info": {
   "name": "python"
  }
 },
 "nbformat": 4,
 "nbformat_minor": 5
}
